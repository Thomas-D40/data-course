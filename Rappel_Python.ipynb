{
  "nbformat": 4,
  "nbformat_minor": 0,
  "metadata": {
    "colab": {
      "provenance": [],
      "authorship_tag": "ABX9TyNQj8xPp1Ub617/8ZQQgf6R",
      "include_colab_link": true
    },
    "kernelspec": {
      "name": "python3",
      "display_name": "Python 3"
    },
    "language_info": {
      "name": "python"
    }
  },
  "cells": [
    {
      "cell_type": "markdown",
      "metadata": {
        "id": "view-in-github",
        "colab_type": "text"
      },
      "source": [
        "<a href=\"https://colab.research.google.com/github/Thomas-D40/data-course/blob/main/Rappel_Python.ipynb\" target=\"_parent\"><img src=\"https://colab.research.google.com/assets/colab-badge.svg\" alt=\"Open In Colab\"/></a>"
      ]
    },
    {
      "cell_type": "markdown",
      "source": [
        "# Variables et types de données"
      ],
      "metadata": {
        "id": "mvHNEBSsJZeC"
      }
    },
    {
      "cell_type": "code",
      "source": [
        "days = 365"
      ],
      "metadata": {
        "id": "GoaQlrMSJYkb"
      },
      "execution_count": 1,
      "outputs": []
    },
    {
      "cell_type": "code",
      "source": [
        "print(type(days))"
      ],
      "metadata": {
        "colab": {
          "base_uri": "https://localhost:8080/"
        },
        "id": "fkiPWT0OJqi2",
        "outputId": "4c7782ee-fe8d-4cb0-c89b-9f6c55afb120"
      },
      "execution_count": 2,
      "outputs": [
        {
          "output_type": "stream",
          "name": "stdout",
          "text": [
            "<class 'int'>\n"
          ]
        }
      ]
    },
    {
      "cell_type": "markdown",
      "source": [
        "Types de données natif:\n",
        "- int\n",
        "- float\n",
        "- string\n",
        "- boolean"
      ],
      "metadata": {
        "id": "6k3v24feJtxD"
      }
    },
    {
      "cell_type": "code",
      "execution_count": 4,
      "metadata": {
        "colab": {
          "base_uri": "https://localhost:8080/"
        },
        "id": "md1ZNrv_JVal",
        "outputId": "9d9d400e-a423-4ca5-a318-473e69968d74"
      },
      "outputs": [
        {
          "output_type": "stream",
          "name": "stdout",
          "text": [
            "<class 'str'>\n",
            "<class 'int'>\n"
          ]
        }
      ],
      "source": [
        "str_int = \"2\"\n",
        "print(type(str_int))\n",
        "str_int = int(str_int)\n",
        "print(type(str_int))"
      ]
    },
    {
      "cell_type": "markdown",
      "source": [
        "# Listes & Collections"
      ],
      "metadata": {
        "id": "_pGJzCXLKRVW"
      }
    },
    {
      "cell_type": "markdown",
      "source": [
        "## Liste"
      ],
      "metadata": {
        "id": "TRS2JxfcLEgw"
      }
    },
    {
      "cell_type": "code",
      "source": [
        "list = [] # Liste vide\n",
        "\n",
        "list.append(1)\n",
        "list.append(\"Février\")\n",
        "list.append(3)\n",
        "\n",
        "print(list)\n",
        "print(type(list))\n",
        "print(list[0])\n",
        "print(list[0:3])\n",
        "print(len(list))"
      ],
      "metadata": {
        "colab": {
          "base_uri": "https://localhost:8080/"
        },
        "id": "Ej7C0-ayKUxh",
        "outputId": "3945dbe5-3edc-4738-ecd0-75ee5e8d1929"
      },
      "execution_count": 14,
      "outputs": [
        {
          "output_type": "stream",
          "name": "stdout",
          "text": [
            "[1, 'Février', 3]\n",
            "<class 'list'>\n",
            "1\n",
            "[1, 'Février', 3]\n",
            "3\n"
          ]
        }
      ]
    },
    {
      "cell_type": "markdown",
      "source": [
        "## Dictionnaire: logique clé-valeur vs index-valeur"
      ],
      "metadata": {
        "id": "_WKnX2M-LFsd"
      }
    },
    {
      "cell_type": "code",
      "source": [
        "dic = {}\n",
        "\n",
        "dic[\"Janvier\"] = 1\n",
        "dic[\"Février\"] = 2\n",
        "dic[\"Mars\"] = 3\n",
        "\n",
        "print(dic)\n",
        "print(type(dic))\n",
        "print(dic[\"Janvier\"])"
      ],
      "metadata": {
        "colab": {
          "base_uri": "https://localhost:8080/"
        },
        "id": "ygALBel8LJup",
        "outputId": "29048d4e-3854-4a4c-cdf5-54c54a60b96d"
      },
      "execution_count": 15,
      "outputs": [
        {
          "output_type": "stream",
          "name": "stdout",
          "text": [
            "{'Janvier': 1, 'Février': 2, 'Mars': 3}\n",
            "<class 'dict'>\n",
            "1\n"
          ]
        }
      ]
    },
    {
      "cell_type": "markdown",
      "source": [
        "# Condition IF / ELSE"
      ],
      "metadata": {
        "id": "pqyGHQKPLZaI"
      }
    },
    {
      "cell_type": "code",
      "source": [
        "age = 29\n",
        "\n",
        "if age > 35:\n",
        "  print(age)\n",
        "else:\n",
        "  print(\"interdit\")"
      ],
      "metadata": {
        "colab": {
          "base_uri": "https://localhost:8080/"
        },
        "id": "DUKISq6ZLbMR",
        "outputId": "3a53a375-ba5e-45c0-8233-1d150f1881fc"
      },
      "execution_count": 16,
      "outputs": [
        {
          "output_type": "stream",
          "name": "stdout",
          "text": [
            "interdit\n"
          ]
        }
      ]
    },
    {
      "cell_type": "markdown",
      "source": [
        "# Boucle FOR"
      ],
      "metadata": {
        "id": "YZRgprQ6LoHT"
      }
    },
    {
      "cell_type": "code",
      "source": [
        "cities = ['Paris', 'Bordeaux', 'Marseille', 'Bordeaux', 'Bordeaux', 'Paris']\n",
        "\n",
        "for city in cities:\n",
        "  print(city)"
      ],
      "metadata": {
        "colab": {
          "base_uri": "https://localhost:8080/"
        },
        "id": "qEcwwS-0LpkH",
        "outputId": "5c9e6732-07a8-4bcb-d68d-f0adf61e40e3"
      },
      "execution_count": 23,
      "outputs": [
        {
          "output_type": "stream",
          "name": "stdout",
          "text": [
            "Paris\n",
            "Bordeaux\n",
            "Marseille\n",
            "Bordeaux\n",
            "Bordeaux\n",
            "Paris\n"
          ]
        }
      ]
    },
    {
      "cell_type": "code",
      "source": [
        "cities_count = {}\n",
        "\n",
        "for city in cities:\n",
        "  if city in cities_count:\n",
        "    cities_count[city] = cities_count[city] + 1\n",
        "  else:\n",
        "    cities_count[city] = 1\n",
        "\n",
        "print(cities_count)"
      ],
      "metadata": {
        "colab": {
          "base_uri": "https://localhost:8080/"
        },
        "id": "GunQITdyLv4-",
        "outputId": "da6766ce-b613-4b7d-ea64-6408111a68a6"
      },
      "execution_count": 24,
      "outputs": [
        {
          "output_type": "stream",
          "name": "stdout",
          "text": [
            "{'Paris': 2, 'Bordeaux': 3, 'Marseille': 1}\n"
          ]
        }
      ]
    },
    {
      "cell_type": "markdown",
      "source": [
        "# Fonctions"
      ],
      "metadata": {
        "id": "cmT0rdBKMcOb"
      }
    },
    {
      "cell_type": "code",
      "source": [
        "def majeur(age):\n",
        "  if age > 18:\n",
        "    print(\"majeur\")\n",
        "  else:\n",
        "    print(\"mineur\")"
      ],
      "metadata": {
        "id": "jxJYEdwMMjoL"
      },
      "execution_count": 27,
      "outputs": []
    },
    {
      "cell_type": "code",
      "source": [
        "majeur(19)"
      ],
      "metadata": {
        "colab": {
          "base_uri": "https://localhost:8080/"
        },
        "id": "w5uofXHjMsa8",
        "outputId": "c7dd8f87-9df0-4425-88bc-449f3cdf2be9"
      },
      "execution_count": 28,
      "outputs": [
        {
          "output_type": "stream",
          "name": "stdout",
          "text": [
            "majeur\n"
          ]
        }
      ]
    }
  ]
}