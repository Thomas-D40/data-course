{
  "nbformat": 4,
  "nbformat_minor": 0,
  "metadata": {
    "colab": {
      "provenance": [],
      "toc_visible": true,
      "authorship_tag": "ABX9TyNZWM2eRyr+EnbWkaW8ueSw",
      "include_colab_link": true
    },
    "kernelspec": {
      "name": "python3",
      "display_name": "Python 3"
    },
    "language_info": {
      "name": "python"
    }
  },
  "cells": [
    {
      "cell_type": "markdown",
      "metadata": {
        "id": "view-in-github",
        "colab_type": "text"
      },
      "source": [
        "<a href=\"https://colab.research.google.com/github/Thomas-D40/data-course/blob/main/Analyse_de_donn%C3%A9es_avec_NumPy.ipynb\" target=\"_parent\"><img src=\"https://colab.research.google.com/assets/colab-badge.svg\" alt=\"Open In Colab\"/></a>"
      ]
    },
    {
      "cell_type": "code",
      "execution_count": 1,
      "metadata": {
        "colab": {
          "base_uri": "https://localhost:8080/"
        },
        "id": "3IMnUg9giDeP",
        "outputId": "9756806c-63a9-4118-d4b9-fd679ea658fa"
      },
      "outputs": [
        {
          "output_type": "stream",
          "name": "stdout",
          "text": [
            "Mounted at /gdrive\n"
          ]
        },
        {
          "output_type": "execute_result",
          "data": {
            "text/plain": [
              "array([['1986', 'Western Pacific', 'Viet Nam', 'Wine', '0'],\n",
              "       ['1986', 'Americas', 'Uruguay', 'Other', '0.5'],\n",
              "       ['1985', 'Africa', \"Cte d'Ivoire\", 'Wine', '1.62'],\n",
              "       ...,\n",
              "       ['1986', 'Europe', 'Switzerland', 'Spirits', '2.54'],\n",
              "       ['1987', 'Western Pacific', 'Papua New Guinea', 'Other', '0'],\n",
              "       ['1986', 'Africa', 'Swaziland', 'Other', '5.15']], dtype='<U75')"
            ]
          },
          "metadata": {},
          "execution_count": 1
        }
      ],
      "source": [
        "import numpy as np\n",
        "from google.colab import drive\n",
        "drive.mount('/gdrive')\n",
        "\n",
        "url = '/gdrive/MyDrive/python-data-course'\n",
        "filename = 'world_alcohol.csv'\n",
        "\n",
        "world_alcohol = np.genfromtxt(url + '/' + filename, delimiter=',', dtype='U75', skip_header=1)\n",
        "world_alcohol"
      ]
    },
    {
      "cell_type": "markdown",
      "source": [
        "# Effectuer des comparaisons"
      ],
      "metadata": {
        "id": "kWWx2tmoigEo"
      }
    },
    {
      "cell_type": "code",
      "source": [
        "vector = np.array([5,10,15,20])\n",
        "\n",
        "vector == 10 # Ceci permet de comparer chaque valeur du tableau pour obtenir un nouveau vecteur de booléen"
      ],
      "metadata": {
        "colab": {
          "base_uri": "https://localhost:8080/"
        },
        "id": "Q6koNZtKijGo",
        "outputId": "525d7da9-5a62-4822-8e3e-fb994e8cea51"
      },
      "execution_count": 2,
      "outputs": [
        {
          "output_type": "execute_result",
          "data": {
            "text/plain": [
              "array([False,  True, False, False])"
            ]
          },
          "metadata": {},
          "execution_count": 2
        }
      ]
    },
    {
      "cell_type": "code",
      "source": [
        "matrix = np.array([[1,2,3],[4,5,6],[7,8,9]])\n",
        "matrix = matrix + 1 # L'addition s'applique également sur toutes les valeurs\n",
        "matrix"
      ],
      "metadata": {
        "colab": {
          "base_uri": "https://localhost:8080/"
        },
        "id": "_V8QOv8mi4NV",
        "outputId": "00c841d6-e2e0-418b-d0aa-4ae722258c7a"
      },
      "execution_count": 65,
      "outputs": [
        {
          "output_type": "execute_result",
          "data": {
            "text/plain": [
              "array([[ 2,  3,  4],\n",
              "       [ 5,  6,  7],\n",
              "       [ 8,  9, 10]])"
            ]
          },
          "metadata": {},
          "execution_count": 65
        }
      ]
    },
    {
      "cell_type": "markdown",
      "source": [
        "Exercice:\n",
        "- Extraire la 3ème colonne de world_alcohol et comparer la à Canada et assigner à countries_canada\n",
        "- Extraitre la première colonne et comparer à 1984 et assigner à years_1984"
      ],
      "metadata": {
        "id": "bxMYkyogjRib"
      }
    },
    {
      "cell_type": "code",
      "source": [
        "countries_canada = world_alcohol[:,2] == \"Canada\"\n",
        "years_1984 = world_alcohol[:, 0] == 1984\n",
        "\n",
        "print(countries_canada)\n",
        "print(years_1984)"
      ],
      "metadata": {
        "colab": {
          "base_uri": "https://localhost:8080/"
        },
        "id": "o5EA0FVujdzV",
        "outputId": "37a308c0-ca33-4e44-fcc4-149813e83901"
      },
      "execution_count": 4,
      "outputs": [
        {
          "output_type": "stream",
          "name": "stdout",
          "text": [
            "[False False False ... False False False]\n",
            "[False False False ... False False False]\n"
          ]
        }
      ]
    },
    {
      "cell_type": "markdown",
      "source": [
        "# Sélectionner des éléments"
      ],
      "metadata": {
        "id": "lri5x_vFj5_z"
      }
    },
    {
      "cell_type": "code",
      "source": [
        "vector = np.array([5,10,15,20])\n",
        "\n",
        "equal_to_ten = (vector == 10)\n",
        "print(equal_to_ten) # Génère le vecteur de booléan\n",
        "print(vector[equal_to_ten]) # A partir de vector et du vecteur de boolean, génère un vecteur des valeurs si le boolean est à true"
      ],
      "metadata": {
        "colab": {
          "base_uri": "https://localhost:8080/"
        },
        "id": "M_JzO9Ygj8Lz",
        "outputId": "562cfd29-9124-4591-face-c76a4181e51a"
      },
      "execution_count": 5,
      "outputs": [
        {
          "output_type": "stream",
          "name": "stdout",
          "text": [
            "[False  True False False]\n",
            "[10]\n"
          ]
        }
      ]
    },
    {
      "cell_type": "code",
      "source": [
        "matrix = np.array([[1,2,3],[4,5,6],[7,8,9]])\n",
        "\n",
        "second_colomn_5 = (matrix[:,1] == 5)\n",
        "print(second_colomn_5)\n",
        "print(matrix[second_colomn_5, :]) # Donne la ligne où il y a un true\n",
        "print(matrix[second_colomn_5, 1])\n",
        "\n"
      ],
      "metadata": {
        "colab": {
          "base_uri": "https://localhost:8080/"
        },
        "id": "bv2SXYcTke1D",
        "outputId": "8ac88951-d549-4156-b803-9f73fba229df"
      },
      "execution_count": 6,
      "outputs": [
        {
          "output_type": "stream",
          "name": "stdout",
          "text": [
            "[False  True False]\n",
            "[[4 5 6]]\n",
            "[5]\n"
          ]
        }
      ]
    },
    {
      "cell_type": "markdown",
      "source": [
        "Exercice:\n",
        "- Comparer 3ème colonne à Algeria et assigner à country_is_algeria\n",
        "- Selections seulements les lignes de wolrd_alcohol pour les quelques country_is_algeria vaut True\n",
        "- Assigner le résultat à country_algeria\n",
        "\n",
        "\n",
        "Même travail pour 1984"
      ],
      "metadata": {
        "id": "B9c-BXdflBqv"
      }
    },
    {
      "cell_type": "code",
      "source": [
        "world_alcohol"
      ],
      "metadata": {
        "colab": {
          "base_uri": "https://localhost:8080/"
        },
        "id": "JPTfCQsBlUI5",
        "outputId": "1ff052b9-3293-4503-c946-d58792ac87f7"
      },
      "execution_count": 7,
      "outputs": [
        {
          "output_type": "execute_result",
          "data": {
            "text/plain": [
              "array([['1986', 'Western Pacific', 'Viet Nam', 'Wine', '0'],\n",
              "       ['1986', 'Americas', 'Uruguay', 'Other', '0.5'],\n",
              "       ['1985', 'Africa', \"Cte d'Ivoire\", 'Wine', '1.62'],\n",
              "       ...,\n",
              "       ['1986', 'Europe', 'Switzerland', 'Spirits', '2.54'],\n",
              "       ['1987', 'Western Pacific', 'Papua New Guinea', 'Other', '0'],\n",
              "       ['1986', 'Africa', 'Swaziland', 'Other', '5.15']], dtype='<U75')"
            ]
          },
          "metadata": {},
          "execution_count": 7
        }
      ]
    },
    {
      "cell_type": "code",
      "source": [
        "country_is_algeria = world_alcohol[:, 2] == \"Algeria\"\n",
        "country_algeria = world_alcohol[country_is_algeria, :]\n",
        "print(country_algeria)\n",
        "print(country_algeria.shape)\n",
        "\n",
        "year_is_1984 = world_alcohol[:, 0] == \"1984\"\n",
        "year_1984 = world_alcohol[year_is_1984, :]\n",
        "print(year_1984)\n",
        "print(year_1984.shape)\n"
      ],
      "metadata": {
        "colab": {
          "base_uri": "https://localhost:8080/"
        },
        "id": "5qsgS-YBlVqI",
        "outputId": "f0fb15ba-977f-44d8-991d-e26cf0b813ad"
      },
      "execution_count": 8,
      "outputs": [
        {
          "output_type": "stream",
          "name": "stdout",
          "text": [
            "[['1984' 'Africa' 'Algeria' 'Spirits' '0.01']\n",
            " ['1987' 'Africa' 'Algeria' 'Beer' '0.17']\n",
            " ['1987' 'Africa' 'Algeria' 'Spirits' '0.01']\n",
            " ['1986' 'Africa' 'Algeria' 'Wine' '0.1']\n",
            " ['1984' 'Africa' 'Algeria' 'Other' '0']\n",
            " ['1989' 'Africa' 'Algeria' 'Beer' '0.16']\n",
            " ['1989' 'Africa' 'Algeria' 'Spirits' '0.01']\n",
            " ['1989' 'Africa' 'Algeria' 'Wine' '0.23']\n",
            " ['1986' 'Africa' 'Algeria' 'Spirits' '0.01']\n",
            " ['1984' 'Africa' 'Algeria' 'Wine' '0.12']\n",
            " ['1985' 'Africa' 'Algeria' 'Beer' '0.19']\n",
            " ['1985' 'Africa' 'Algeria' 'Other' '0']\n",
            " ['1986' 'Africa' 'Algeria' 'Beer' '0.18']\n",
            " ['1985' 'Africa' 'Algeria' 'Wine' '0.11']\n",
            " ['1986' 'Africa' 'Algeria' 'Other' '0']\n",
            " ['1989' 'Africa' 'Algeria' 'Other' '0']\n",
            " ['1987' 'Africa' 'Algeria' 'Other' '0']\n",
            " ['1984' 'Africa' 'Algeria' 'Beer' '0.2']\n",
            " ['1985' 'Africa' 'Algeria' 'Spirits' '0.01']\n",
            " ['1987' 'Africa' 'Algeria' 'Wine' '0.1']]\n",
            "(20, 5)\n",
            "[['1984' 'Africa' 'Nigeria' 'Other' '6.1']\n",
            " ['1984' 'Eastern Mediterranean' 'Afghanistan' 'Other' '0']\n",
            " ['1984' 'Americas' 'Costa Rica' 'Wine' '0.06']\n",
            " ...\n",
            " ['1984' 'Europe' 'Latvia' 'Spirits' '7.5']\n",
            " ['1984' 'Africa' 'Angola' 'Wine' '0.57']\n",
            " ['1984' 'Africa' 'Central African Republic' 'Wine' '0.46']]\n",
            "(646, 5)\n"
          ]
        }
      ]
    },
    {
      "cell_type": "markdown",
      "source": [
        "# Effectuer des comparaisons avec plusieurs conditions avec AND & OR"
      ],
      "metadata": {
        "id": "ZA7blibim17U"
      }
    },
    {
      "cell_type": "code",
      "source": [
        "vector = np.array([5,10,15,20])\n",
        "\n",
        "equal_to_ten_and_five = (vector == 10) & (vector == 5)\n",
        "equal_to_ten_and_five\n",
        "\n",
        "equal_to_ten_or_five = (vector == 10) | (vector == 5)\n",
        "equal_to_ten_or_five"
      ],
      "metadata": {
        "colab": {
          "base_uri": "https://localhost:8080/"
        },
        "id": "BeOXTXtAm7Jr",
        "outputId": "6f81fae8-6962-453b-d259-ac20ee429d7b"
      },
      "execution_count": 9,
      "outputs": [
        {
          "output_type": "execute_result",
          "data": {
            "text/plain": [
              "array([ True,  True, False, False])"
            ]
          },
          "metadata": {},
          "execution_count": 9
        }
      ]
    },
    {
      "cell_type": "markdown",
      "source": [
        "Exercice:\n",
        "- Créer double comparaison et assigner à is_algeria_and_1986\n",
        "- Créer la varialbe rows_with_algeria_and_1986"
      ],
      "metadata": {
        "id": "lexr6Vd9nOpI"
      }
    },
    {
      "cell_type": "code",
      "source": [
        "is_algeria_and_1986 = (world_alcohol[:, 2] == \"Algeria\") & (world_alcohol[:, 0] == \"1986\")\n",
        "is_algeria_and_1986\n",
        "\n",
        "rows_with_algeria_and_1986 = world_alcohol[is_algeria_and_1986, :]\n",
        "rows_with_algeria_and_1986"
      ],
      "metadata": {
        "colab": {
          "base_uri": "https://localhost:8080/"
        },
        "id": "VSrggj1mnX6d",
        "outputId": "aeb6543e-5183-4d16-c688-65497f3b6f9a"
      },
      "execution_count": 10,
      "outputs": [
        {
          "output_type": "execute_result",
          "data": {
            "text/plain": [
              "array([['1986', 'Africa', 'Algeria', 'Wine', '0.1'],\n",
              "       ['1986', 'Africa', 'Algeria', 'Spirits', '0.01'],\n",
              "       ['1986', 'Africa', 'Algeria', 'Beer', '0.18'],\n",
              "       ['1986', 'Africa', 'Algeria', 'Other', '0']], dtype='<U75')"
            ]
          },
          "metadata": {},
          "execution_count": 10
        }
      ]
    },
    {
      "cell_type": "markdown",
      "source": [
        "# Remplacer des valeurs par un tableau NumPy"
      ],
      "metadata": {
        "id": "22N6Y6g0n249"
      }
    },
    {
      "cell_type": "code",
      "source": [
        "vector = np.array([5,10,15,20])\n",
        "\n",
        "equal_to_ten_or_five = (vector == 10) | (vector == 5)\n",
        "\n",
        "vector[equal_to_ten_or_five] = 50\n",
        "\n",
        "vector"
      ],
      "metadata": {
        "colab": {
          "base_uri": "https://localhost:8080/"
        },
        "id": "EXhNcUrcn58G",
        "outputId": "a5c95841-80a2-4593-e126-fc0c5ad53da4"
      },
      "execution_count": 11,
      "outputs": [
        {
          "output_type": "execute_result",
          "data": {
            "text/plain": [
              "array([50, 50, 15, 20])"
            ]
          },
          "metadata": {},
          "execution_count": 11
        }
      ]
    },
    {
      "cell_type": "code",
      "source": [
        "matrix = np.array([[1,2,3],[4,5,6],[7,8,9]])\n",
        "\n",
        "second_column_5 = matrix[:, 1] == 5\n",
        "\n",
        "matrix[second_colomn_5, 1] = 15\n",
        "\n",
        "matrix"
      ],
      "metadata": {
        "colab": {
          "base_uri": "https://localhost:8080/"
        },
        "id": "PFLalmSvorlW",
        "outputId": "558a3bdc-d67d-4828-ff11-13ecf5063ae3"
      },
      "execution_count": 12,
      "outputs": [
        {
          "output_type": "execute_result",
          "data": {
            "text/plain": [
              "array([[ 1,  2,  3],\n",
              "       [ 4, 15,  6],\n",
              "       [ 7,  8,  9]])"
            ]
          },
          "metadata": {},
          "execution_count": 12
        }
      ]
    },
    {
      "cell_type": "markdown",
      "source": [
        "Exercice:\n",
        "- Créer un tableau numpy world_alcohol_2 égal à world_alcohol pour le dupliquer sous un autre nom\n",
        "- Remplacer toutes les années 1986 par \"2018\n",
        "- Remplacer tous les alccols \"Wine par \"Beer\""
      ],
      "metadata": {
        "id": "NoAajyK-pQfC"
      }
    },
    {
      "cell_type": "code",
      "source": [
        "world_alcohol"
      ],
      "metadata": {
        "colab": {
          "base_uri": "https://localhost:8080/"
        },
        "id": "sNneCSwKprT4",
        "outputId": "0e466f59-9b53-4b12-816f-7e9de90e88a7"
      },
      "execution_count": 13,
      "outputs": [
        {
          "output_type": "execute_result",
          "data": {
            "text/plain": [
              "array([['1986', 'Western Pacific', 'Viet Nam', 'Wine', '0'],\n",
              "       ['1986', 'Americas', 'Uruguay', 'Other', '0.5'],\n",
              "       ['1985', 'Africa', \"Cte d'Ivoire\", 'Wine', '1.62'],\n",
              "       ...,\n",
              "       ['1986', 'Europe', 'Switzerland', 'Spirits', '2.54'],\n",
              "       ['1987', 'Western Pacific', 'Papua New Guinea', 'Other', '0'],\n",
              "       ['1986', 'Africa', 'Swaziland', 'Other', '5.15']], dtype='<U75')"
            ]
          },
          "metadata": {},
          "execution_count": 13
        }
      ]
    },
    {
      "cell_type": "code",
      "source": [
        "world_alcohol_2 = world_alcohol\n",
        "\n",
        "is_1986 = world_alcohol_2[:, 0] == \"1986\"\n",
        "is_wine = world_alcohol_2[:, 3] == \"Wine\"\n",
        "\n",
        "world_alcohol_2[is_1986, 0] = \"2018\"\n",
        "world_alcohol_2[is_wine, 3] = \"Beer\"\n",
        "\n",
        "print(world_alcohol_2)\n",
        "print(world_alcohol_2[world_alcohol_2[:, 0] == \"2018\"])"
      ],
      "metadata": {
        "colab": {
          "base_uri": "https://localhost:8080/"
        },
        "id": "ig4xS5BHpe0F",
        "outputId": "efa790d7-2189-4c19-9387-ea912e8f7218"
      },
      "execution_count": 14,
      "outputs": [
        {
          "output_type": "stream",
          "name": "stdout",
          "text": [
            "[['2018' 'Western Pacific' 'Viet Nam' 'Beer' '0']\n",
            " ['2018' 'Americas' 'Uruguay' 'Other' '0.5']\n",
            " ['1985' 'Africa' \"Cte d'Ivoire\" 'Beer' '1.62']\n",
            " ...\n",
            " ['2018' 'Europe' 'Switzerland' 'Spirits' '2.54']\n",
            " ['1987' 'Western Pacific' 'Papua New Guinea' 'Other' '0']\n",
            " ['2018' 'Africa' 'Swaziland' 'Other' '5.15']]\n",
            "[['2018' 'Western Pacific' 'Viet Nam' 'Beer' '0']\n",
            " ['2018' 'Americas' 'Uruguay' 'Other' '0.5']\n",
            " ['2018' 'Americas' 'Colombia' 'Beer' '4.27']\n",
            " ...\n",
            " ['2018' 'Western Pacific' 'Fiji' 'Spirits' '0.05']\n",
            " ['2018' 'Europe' 'Switzerland' 'Spirits' '2.54']\n",
            " ['2018' 'Africa' 'Swaziland' 'Other' '5.15']]\n"
          ]
        }
      ]
    },
    {
      "cell_type": "markdown",
      "source": [
        "# Remplacer chaines de caractères vides"
      ],
      "metadata": {
        "id": "PYfBh9JRSKxM"
      }
    },
    {
      "cell_type": "markdown",
      "source": [
        "Comparer tous les éléments de la 5ème colonne à la chaine de caractères vides, assigner ce résultat à is_value_empty\n",
        "\n",
        "Remplacer les '' par des 0"
      ],
      "metadata": {
        "id": "KdNqK4EkSUdx"
      }
    },
    {
      "cell_type": "code",
      "source": [
        "is_value_empty = world_alcohol[:, 4] == ''\n",
        "\n",
        "world_alcohol[is_value_empty, 4] = '0'\n",
        "\n",
        "world_alcohol"
      ],
      "metadata": {
        "colab": {
          "base_uri": "https://localhost:8080/"
        },
        "id": "KTWI95dDSM32",
        "outputId": "6ac8b06e-c83b-460a-b471-30db57bb01f5"
      },
      "execution_count": 16,
      "outputs": [
        {
          "output_type": "execute_result",
          "data": {
            "text/plain": [
              "array([['2018', 'Western Pacific', 'Viet Nam', 'Beer', '0'],\n",
              "       ['2018', 'Americas', 'Uruguay', 'Other', '0.5'],\n",
              "       ['1985', 'Africa', \"Cte d'Ivoire\", 'Beer', '1.62'],\n",
              "       ...,\n",
              "       ['2018', 'Europe', 'Switzerland', 'Spirits', '2.54'],\n",
              "       ['1987', 'Western Pacific', 'Papua New Guinea', 'Other', '0'],\n",
              "       ['2018', 'Africa', 'Swaziland', 'Other', '5.15']], dtype='<U75')"
            ]
          },
          "metadata": {},
          "execution_count": 16
        }
      ]
    },
    {
      "cell_type": "markdown",
      "source": [
        "# Convertir les types de données"
      ],
      "metadata": {
        "id": "tOw9tHaWS1KB"
      }
    },
    {
      "cell_type": "code",
      "source": [
        "# astype()\n",
        "\n",
        "vector = np.array([\"1\",\"2\",\"3\"])\n",
        "\n",
        "vector = vector.astype(float)\n",
        "\n",
        "vector"
      ],
      "metadata": {
        "colab": {
          "base_uri": "https://localhost:8080/"
        },
        "id": "kfUfCcAQS20w",
        "outputId": "2e54a078-c32f-447c-d236-2fa0323b7fc4"
      },
      "execution_count": 17,
      "outputs": [
        {
          "output_type": "execute_result",
          "data": {
            "text/plain": [
              "array([1., 2., 3.])"
            ]
          },
          "metadata": {},
          "execution_count": 17
        }
      ]
    },
    {
      "cell_type": "markdown",
      "source": [
        "Extraire 5ème colonne de world_alcohol as alcohol_consumption + conversion en flaot"
      ],
      "metadata": {
        "id": "TVzXthhCTNuu"
      }
    },
    {
      "cell_type": "code",
      "source": [
        "alcohol_consumption = world_alcohol[:, 4]\n",
        "\n",
        "alcohol_consumption = alcohol_consumption.astype(float)\n",
        "\n",
        "alcohol_consumption"
      ],
      "metadata": {
        "colab": {
          "base_uri": "https://localhost:8080/"
        },
        "id": "Thmo1m0BTGIg",
        "outputId": "c9159234-8129-4468-a2be-f98b861523e5"
      },
      "execution_count": 19,
      "outputs": [
        {
          "output_type": "execute_result",
          "data": {
            "text/plain": [
              "array([0.  , 0.5 , 1.62, ..., 2.54, 0.  , 5.15])"
            ]
          },
          "metadata": {},
          "execution_count": 19
        }
      ]
    },
    {
      "cell_type": "markdown",
      "source": [
        "# Calculs mathématiques avec NumPy\n",
        "\n",
        "- sum()\n",
        "- mean()\n",
        "- max()\n",
        "\n",
        "S'applique à chaque fois sur les valeurs d'un vecteur ou d'une dimension d'une matrice (soit colonne, soit ligne)"
      ],
      "metadata": {
        "id": "S6HHOSgEThkI"
      }
    },
    {
      "cell_type": "code",
      "source": [
        "vector = np.array([5,10,15,20])\n",
        "\n",
        "vector.sum() # 50\n",
        "\n",
        "vector.mean() # 12.5\n",
        "\n",
        "vector.max() # 20"
      ],
      "metadata": {
        "colab": {
          "base_uri": "https://localhost:8080/"
        },
        "id": "SFg8VimGT0Mm",
        "outputId": "58f03a57-7696-46c8-af67-b600876de80d"
      },
      "execution_count": 22,
      "outputs": [
        {
          "output_type": "execute_result",
          "data": {
            "text/plain": [
              "20"
            ]
          },
          "metadata": {},
          "execution_count": 22
        }
      ]
    },
    {
      "cell_type": "code",
      "source": [
        "matrix = np.array([[1,2,3],[4,5,6],[7,8,9]])\n",
        "\n",
        "matrix.sum(axis=1) # Somme des lignes\n",
        "matrix.sum(axis=0) # Somme des colonnes\n",
        "matrix.sum() # Somme toutes les valeurs"
      ],
      "metadata": {
        "colab": {
          "base_uri": "https://localhost:8080/"
        },
        "id": "maIt87cET_xl",
        "outputId": "29aafc33-636d-440d-ed2d-170db01fa346"
      },
      "execution_count": 25,
      "outputs": [
        {
          "output_type": "execute_result",
          "data": {
            "text/plain": [
              "45"
            ]
          },
          "metadata": {},
          "execution_count": 25
        }
      ]
    },
    {
      "cell_type": "markdown",
      "source": [
        "Exercice:\n",
        "\n",
        "Utiliser sum() pour calculer la somme des valeurs d'alcool dans total_alcohol, puis mean pour average_alcohol"
      ],
      "metadata": {
        "id": "zs6W4wIzUaf1"
      }
    },
    {
      "cell_type": "code",
      "source": [
        "total_alcohol = alcohol_consumption.sum()\n",
        "average_alcohol = alcohol_consumption.mean()\n",
        "\n",
        "print(total_alcohol, average_alcohol)"
      ],
      "metadata": {
        "colab": {
          "base_uri": "https://localhost:8080/"
        },
        "id": "qRVs_GODUijv",
        "outputId": "345a7e28-6f94-4d76-d4dd-a8a7088afe44"
      },
      "execution_count": 27,
      "outputs": [
        {
          "output_type": "stream",
          "name": "stdout",
          "text": [
            "3908.96 1.2001719373656738\n"
          ]
        }
      ]
    },
    {
      "cell_type": "markdown",
      "source": [
        "# Calculer consommation totale annuelle par habitant pour un pays donné"
      ],
      "metadata": {
        "id": "UtBiEucbUyrw"
      }
    },
    {
      "cell_type": "code",
      "source": [
        "world_alcohol[world_alcohol[:, 2] == \"France\"]"
      ],
      "metadata": {
        "colab": {
          "base_uri": "https://localhost:8080/"
        },
        "id": "qCNMRTcJU21d",
        "outputId": "7355b1b2-b9f0-49af-c2f6-e183d663f414"
      },
      "execution_count": 29,
      "outputs": [
        {
          "output_type": "execute_result",
          "data": {
            "text/plain": [
              "array([['1985', 'Europe', 'France', 'Spirits', '2.7'],\n",
              "       ['1989', 'Europe', 'France', 'Beer', '10.24'],\n",
              "       ['2018', 'Europe', 'France', 'Other', '0.25'],\n",
              "       ['1989', 'Europe', 'France', 'Other', '0.27'],\n",
              "       ['1984', 'Europe', 'France', 'Spirits', '2.58'],\n",
              "       ['1987', 'Europe', 'France', 'Beer', '2.45'],\n",
              "       ['2018', 'Europe', 'France', 'Spirits', '2.71'],\n",
              "       ['1989', 'Europe', 'France', 'Beer', '2.56'],\n",
              "       ['2018', 'Europe', 'France', 'Beer', '2.55'],\n",
              "       ['1984', 'Europe', 'France', 'Beer', '2.62'],\n",
              "       ['1984', 'Europe', 'France', 'Other', '0.24'],\n",
              "       ['1985', 'Europe', 'France', 'Beer', '11.1'],\n",
              "       ['1985', 'Europe', 'France', 'Other', '0.25'],\n",
              "       ['2018', 'Europe', 'France', 'Beer', '10.62'],\n",
              "       ['1989', 'Europe', 'France', 'Spirits', '2.98'],\n",
              "       ['1985', 'Europe', 'France', 'Beer', '2.54'],\n",
              "       ['1987', 'Europe', 'France', 'Beer', '10.42'],\n",
              "       ['1984', 'Europe', 'France', 'Beer', '11.45'],\n",
              "       ['1987', 'Europe', 'France', 'Other', '0.26'],\n",
              "       ['1987', 'Europe', 'France', 'Spirits', '2.77']], dtype='<U75')"
            ]
          },
          "metadata": {},
          "execution_count": 29
        }
      ]
    },
    {
      "cell_type": "markdown",
      "source": [
        "Exercice:\n",
        "Créer une matrice canada_1986\n",
        "Extraire 5ème colonne et remplacer '' par '0' puis convertir en float, assigner le résultat à canada_alcohol\n",
        "Calculer somme dans total_canadian_driking"
      ],
      "metadata": {
        "id": "KuU-w3IEVG23"
      }
    },
    {
      "cell_type": "code",
      "source": [
        "canada_2018 = world_alcohol[(world_alcohol[:, 2] == \"Canada\")  & (world_alcohol[:, 0] == \"2018\")] # Absence de données en 1986\n",
        "\n",
        "is_value_empty = canada_2018[:, 4] == ''\n",
        "canada_2018[(canada_2018[:, 4] == ''), 4] = '0'\n",
        "print(canada_2018)\n",
        "\n",
        "canada_alcohol = canada_2018[:,4].astype(float)\n",
        "print(canada_alcohol)\n",
        "\n",
        "total_canadian_driking = canada_alcohol.sum()\n",
        "\n",
        "print(total_canadian_driking)\n"
      ],
      "metadata": {
        "colab": {
          "base_uri": "https://localhost:8080/"
        },
        "id": "8AwNCVGPVcxb",
        "outputId": "0835b233-6c58-470c-efb3-3476c69bc7fd"
      },
      "execution_count": 50,
      "outputs": [
        {
          "output_type": "stream",
          "name": "stdout",
          "text": [
            "[['2018' 'Americas' 'Canada' 'Other' '0']\n",
            " ['2018' 'Americas' 'Canada' 'Spirits' '3.11']\n",
            " ['2018' 'Americas' 'Canada' 'Beer' '4.87']\n",
            " ['2018' 'Americas' 'Canada' 'Beer' '1.33']]\n",
            "[0.   3.11 4.87 1.33]\n",
            "9.31\n"
          ]
        }
      ]
    },
    {
      "cell_type": "markdown",
      "source": [
        "Exercice:\n",
        "Créer dictionnaire vide: pays / consommations associés => totals\n",
        "\n",
        "Sélectionner les lignes de world_alochol correspond à 1989 => year\n",
        "\n",
        "Sélectionner dans une liste countries\n",
        "\n",
        "Parcourir les pays via une boucle:\n",
        "\n",
        "- Sélectionner les lignes de year pour le pays\n",
        "- Assigner résultat à country_consumption\n",
        "- Extraire 5ème colonne\n",
        "- Remplacer par 0\n",
        "- Convertir en float\n",
        "- Calculer somme\n",
        "- Ajouter au dictionnaire\n",
        "\n",
        "Afficher le dictionnaire\n"
      ],
      "metadata": {
        "id": "Fp6IlZ39YLMf"
      }
    },
    {
      "cell_type": "code",
      "source": [
        "# Calcul pour chaque pays\n",
        "\n",
        "\n",
        "totals = {}\n",
        "\n",
        "year = world_alcohol[world_alcohol[:,0] == \"1989\", :]\n",
        "print(year)\n",
        "countries = []\n",
        "for country in year[:, 2]:\n",
        "  if country not in countries:\n",
        "    countries.append(country)\n",
        "\n",
        "print(countries)\n",
        "\n",
        "countries_v2 = world_alcohol[:, 2]\n",
        "print(countries_v2)\n",
        "\n",
        "test = np.array([\"Toto\",\"Toto\",\"Toto\",1])\n",
        "print(test)\n",
        "\n",
        "for country in countries:\n",
        "  country_consumption = year[year[:, 2] == country]\n",
        "  country_consumption[(country_consumption[:, 4] == ''), 4] = '0'\n",
        "  country_consumption = country_consumption[:, 4].astype(float)\n",
        "  totals[country] = country_consumption.sum()\n",
        "\n",
        "print(totals)\n",
        "# for country in countries:\n",
        "#   country_consumption = year[]"
      ],
      "metadata": {
        "colab": {
          "base_uri": "https://localhost:8080/"
        },
        "id": "Gq8k63CEYEkV",
        "outputId": "ddcf215e-2b61-4fb8-fe76-ac77c0197a53"
      },
      "execution_count": 59,
      "outputs": [
        {
          "output_type": "stream",
          "name": "stdout",
          "text": [
            "[['1989' 'Americas' 'Guatemala' 'Beer' '0.62']\n",
            " ['1989' 'Africa' 'Seychelles' 'Beer' '2.23']\n",
            " ['1989' 'Americas' 'Costa Rica' 'Spirits' '4.51']\n",
            " ...\n",
            " ['1989' 'Eastern Mediterranean' 'Morocco' 'Spirits' '0.07']\n",
            " ['1989' 'Europe' 'Poland' 'Beer' '2.03']\n",
            " ['1989' 'Europe' 'Turkey' 'Other' '0']]\n",
            "['Guatemala', 'Seychelles', 'Costa Rica', 'Mauritius', 'Zimbabwe', 'Suriname', 'Croatia', 'Syrian Arab Republic', 'Bolivia (Plurinational State of)', 'Somalia', 'Namibia', 'Uganda', 'Afghanistan', 'Jamaica', 'Finland', 'Iraq', 'Malawi', 'Bulgaria', 'Nicaragua', 'Central African Republic', 'Burundi', 'Sweden', 'Greece', 'Kyrgyzstan', 'Belgium', 'Angola', 'Burkina Faso', 'Czech Republic', 'United Arab Emirates', 'Peru', 'Trinidad and Tobago', 'Guyana', 'Bahrain', 'Benin', 'Liberia', 'Viet Nam', 'Belarus', 'Swaziland', 'France', 'United States of America', 'Cabo Verde', 'Saudi Arabia', 'Poland', 'Senegal', 'Slovenia', 'Hungary', 'Iran (Islamic Republic of)', 'Lesotho', 'Gabon', 'Comoros', 'Italy', 'Denmark', 'Canada', 'Zambia', 'Botswana', 'Kuwait', 'Russian Federation', 'New Zealand', 'Uruguay', 'Fiji', 'Israel', \"Cte d'Ivoire\", 'Spain', 'South Africa', 'Morocco', 'Venezuela (Bolivarian Republic of)', 'Egypt', 'Ethiopia', 'Bhutan', 'Chile', 'Cambodia', 'Mali', 'Nepal', 'Kiribati', 'Dominican Republic', 'Vanuatu', 'Solomon Islands', 'Libya', 'Ukraine', 'Eritrea', 'Switzerland', 'Mexico', 'Portugal', 'El Salvador', 'Philippines', 'Netherlands', 'Mozambique', 'Togo', \"Democratic People's Republic of Korea\", 'Cuba', 'Singapore', 'Lithuania', 'Ecuador', 'Malaysia', 'Niger', 'Democratic Republic of the Congo', 'Australia', 'Cyprus', 'Antigua and Barbuda', 'Pakistan', 'Colombia', 'Saint Lucia', 'Brazil', 'Algeria', 'Malta', \"Lao People's Democratic Republic\", 'Turkey', 'Ghana', 'Mauritania', 'Cameroon', 'Bahamas', 'Djibouti', 'Equatorial Guinea', 'Oman', 'Micronesia (Federated States of)', 'Myanmar', 'Qatar', 'Rwanda', 'Mongolia', 'Latvia', 'Kenya', 'Saint Kitts and Nevis', 'Japan', 'Iceland', 'Papua New Guinea', 'Guinea-Bissau', 'Belize', 'United Republic of Tanzania', 'Paraguay', 'Thailand', 'Tunisia', 'United Kingdom of Great Britain and Northern Ireland', 'Lebanon', 'Luxembourg', 'Albania', 'Bangladesh', 'Sudan', 'Congo', 'Indonesia', 'Sierra Leone', 'Guinea', 'Panama', 'Honduras', 'Samoa', 'Brunei Darussalam', 'Germany', 'Yemen', 'Chad', 'Sri Lanka', 'Republic of Korea', 'Sao Tome and Principe', 'Slovakia', 'Haiti', 'Jordan', 'Madagascar', 'Austria', 'Norway', 'Argentina', 'Romania', 'China', 'Nigeria', 'India', 'Ireland', 'Gambia']\n",
            "['Viet Nam' 'Uruguay' \"Cte d'Ivoire\" ... 'Switzerland' 'Papua New Guinea'\n",
            " 'Swaziland']\n",
            "['Toto' 'Toto' 'Toto' '1']\n",
            "{'Guatemala': 2.47, 'Seychelles': 3.3000000000000003, 'Costa Rica': 5.3999999999999995, 'Mauritius': 3.54, 'Zimbabwe': 4.92, 'Suriname': 3.67, 'Croatia': 10.92, 'Syrian Arab Republic': 0.54, 'Bolivia (Plurinational State of)': 3.05, 'Somalia': 0.0, 'Namibia': 0.24, 'Uganda': 7.8, 'Afghanistan': 0.0, 'Jamaica': 3.03, 'Finland': 9.419999999999998, 'Iraq': 0.75, 'Malawi': 1.02, 'Bulgaria': 11.43, 'Nicaragua': 2.5, 'Central African Republic': 2.5199999999999996, 'Burundi': 8.159999999999998, 'Sweden': 7.47, 'Greece': 10.15, 'Kyrgyzstan': 4.279999999999999, 'Belgium': 11.61, 'Angola': 2.28, 'Burkina Faso': 3.99, 'Czech Republic': 13.009999999999998, 'United Arab Emirates': 4.43, 'Peru': 4.99, 'Trinidad and Tobago': 4.68, 'Guyana': 9.940000000000001, 'Bahrain': 4.89, 'Benin': 1.3800000000000001, 'Liberia': 5.61, 'Viet Nam': 0.16, 'Belarus': 7.9799999999999995, 'Swaziland': 6.68, 'France': 16.05, 'United States of America': 9.16, 'Cabo Verde': 2.79, 'Saudi Arabia': 0.15, 'Poland': 9.33, 'Senegal': 0.6100000000000001, 'Slovenia': 12.969999999999999, 'Hungary': 16.29, 'Iran (Islamic Republic of)': 0.0, 'Lesotho': 2.02, 'Gabon': 9.34, 'Comoros': 0.10999999999999999, 'Italy': 10.899999999999999, 'Denmark': 11.649999999999999, 'Canada': 9.0, 'Zambia': 3.37, 'Botswana': 4.63, 'Kuwait': 0.0, 'Russian Federation': 5.35, 'New Zealand': 11.52, 'Uruguay': 7.4399999999999995, 'Fiji': 1.9600000000000002, 'Israel': 2.0300000000000002, \"Cte d'Ivoire\": 2.2, 'Spain': 13.280000000000001, 'South Africa': 9.21, 'Morocco': 0.7, 'Venezuela (Bolivarian Republic of)': 7.87, 'Egypt': 0.42000000000000004, 'Ethiopia': 0.8600000000000001, 'Bhutan': 0.31, 'Chile': 8.649999999999999, 'Cambodia': 0.33, 'Mali': 0.6699999999999999, 'Nepal': 0.03, 'Kiribati': 0.48, 'Dominican Republic': 4.53, 'Vanuatu': 1.74, 'Solomon Islands': 0.5800000000000001, 'Libya': 0.0, 'Ukraine': 5.32, 'Eritrea': 0.29, 'Switzerland': 13.849999999999998, 'Mexico': 5.1, 'Portugal': 15.350000000000001, 'El Salvador': 1.77, 'Philippines': 3.78, 'Netherlands': 10.030000000000001, 'Mozambique': 0.39, 'Togo': 2.2199999999999998, \"Democratic People's Republic of Korea\": 3.6799999999999997, 'Cuba': 4.37, 'Singapore': 1.61, 'Lithuania': 0.0, 'Ecuador': 2.54, 'Malaysia': 0.68, 'Niger': 0.11, 'Democratic Republic of the Congo': 1.92, 'Australia': 12.09, 'Cyprus': 9.29, 'Antigua and Barbuda': 4.69, 'Pakistan': 0.02, 'Colombia': 6.960000000000001, 'Saint Lucia': 11.62, 'Brazil': 5.52, 'Algeria': 0.4, 'Malta': 7.13, \"Lao People's Democratic Republic\": 5.95, 'Turkey': 0.72, 'Ghana': 1.8599999999999999, 'Mauritania': 0.02, 'Cameroon': 6.359999999999999, 'Bahamas': 12.290000000000001, 'Djibouti': 0.87, 'Equatorial Guinea': 6.49, 'Oman': 1.03, 'Micronesia (Federated States of)': 0.0, 'Myanmar': 0.16, 'Qatar': 1.4500000000000002, 'Rwanda': 7.549999999999999, 'Mongolia': 2.59, 'Latvia': 7.039999999999999, 'Kenya': 2.82, 'Saint Kitts and Nevis': 4.65, 'Japan': 7.74, 'Iceland': 5.359999999999999, 'Papua New Guinea': 1.1099999999999999, 'Guinea-Bissau': 2.67, 'Belize': 0.0, 'United Republic of Tanzania': 5.9, 'Paraguay': 6.51, 'Thailand': 3.92, 'Tunisia': 0.95, 'United Kingdom of Great Britain and Northern Ireland': 9.99, 'Lebanon': 3.94, 'Luxembourg': 15.21, 'Albania': 1.73, 'Bangladesh': 0.0, 'Sudan': 0.15, 'Congo': 3.1500000000000004, 'Indonesia': 0.07, 'Sierra Leone': 4.380000000000001, 'Guinea': 0.21, 'Panama': 4.6000000000000005, 'Honduras': 2.15, 'Samoa': 2.63, 'Brunei Darussalam': 2.7800000000000002, 'Germany': 14.64, 'Yemen': 0.2, 'Chad': 0.30000000000000004, 'Sri Lanka': 0.14, 'Republic of Korea': 9.620000000000001, 'Sao Tome and Principe': 2.57, 'Slovakia': 12.700000000000001, 'Haiti': 5.81, 'Jordan': 0.19, 'Madagascar': 1.38, 'Austria': 13.9, 'Norway': 5.08, 'Argentina': 10.82, 'Romania': 8.41, 'China': 3.33, 'Nigeria': 6.74, 'India': 1.66, 'Ireland': 11.79, 'Gambia': 1.6300000000000001}\n"
          ]
        }
      ]
    },
    {
      "cell_type": "markdown",
      "source": [
        "# Trouver le pays qui consomme le plus"
      ],
      "metadata": {
        "id": "01S8lWhIbM45"
      }
    },
    {
      "cell_type": "markdown",
      "source": [
        "Créer une variable highest_value qu'on initie à 0\n",
        "\n",
        "Créer une variable hight_key qui gardera en mémoire le nom du pays associé, on la fixe à None\n",
        "\n",
        "Parcourir totals et afficher le pays qui consomme le plus"
      ],
      "metadata": {
        "id": "DnQicMRSbUR8"
      }
    },
    {
      "cell_type": "code",
      "source": [
        "highest_value = 0\n",
        "highest_key = None\n",
        "\n",
        "# for key, value in totals.items():\n",
        "#   if value > highest_value:\n",
        "#     highest_value = value\n",
        "#     highest_key= key\n",
        "\n",
        "# Alternative\n",
        "for country in totals:\n",
        "  if totals[country] > highest_value:\n",
        "    highest_value = totals[country]\n",
        "    highest_key = country\n",
        "\n",
        "print(highest_key, highest_value)"
      ],
      "metadata": {
        "colab": {
          "base_uri": "https://localhost:8080/"
        },
        "id": "4gioZUiDZU9d",
        "outputId": "7bfc3d06-3ec1-421a-fe36-19f331b97ee2"
      },
      "execution_count": 62,
      "outputs": [
        {
          "output_type": "stream",
          "name": "stdout",
          "text": [
            "Hungary 16.29\n"
          ]
        }
      ]
    }
  ]
}