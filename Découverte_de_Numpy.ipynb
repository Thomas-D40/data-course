{
  "nbformat": 4,
  "nbformat_minor": 0,
  "metadata": {
    "colab": {
      "provenance": [],
      "authorship_tag": "ABX9TyNCYG1LqQ9ofzgoy4G4cqLi",
      "include_colab_link": true
    },
    "kernelspec": {
      "name": "python3",
      "display_name": "Python 3"
    },
    "language_info": {
      "name": "python"
    }
  },
  "cells": [
    {
      "cell_type": "markdown",
      "metadata": {
        "id": "view-in-github",
        "colab_type": "text"
      },
      "source": [
        "<a href=\"https://colab.research.google.com/github/Thomas-D40/data-course/blob/main/D%C3%A9couverte_de_Numpy.ipynb\" target=\"_parent\"><img src=\"https://colab.research.google.com/assets/colab-badge.svg\" alt=\"Open In Colab\"/></a>"
      ]
    },
    {
      "cell_type": "markdown",
      "source": [
        "# Introduction Numpy\n",
        "\n",
        "Avantage des listes pythons:\n",
        "- peuvent contenir différents types de données\n",
        "- peuvent rétrécir et grandir dynamique\n",
        "\n",
        "\n",
        "Inconvénients:\n",
        "- consomment beaucoup d'énerges\n",
        "- problématiques pour des datasets de moyenne à très grande taille"
      ],
      "metadata": {
        "id": "xDy5Qsh4NN4q"
      }
    },
    {
      "cell_type": "markdown",
      "source": [],
      "metadata": {
        "id": "upIlvJu3Ruua"
      }
    },
    {
      "cell_type": "markdown",
      "source": [
        "# Les tableaux de Numpy"
      ],
      "metadata": {
        "id": "phymXnZ2Ryqb"
      }
    },
    {
      "cell_type": "markdown",
      "source": [
        "ndarray => tableau numpy de n dimensions"
      ],
      "metadata": {
        "id": "o72DqUxRSEDU"
      }
    },
    {
      "cell_type": "markdown",
      "source": [
        "Rappel:\n",
        "un tableau de dimension 1 est un vecteur.\n",
        "\n",
        "un tableau de dimension x (x > 1) est une matrice"
      ],
      "metadata": {
        "id": "jThtNcqeShf5"
      }
    },
    {
      "cell_type": "code",
      "execution_count": 2,
      "metadata": {
        "colab": {
          "base_uri": "https://localhost:8080/"
        },
        "id": "om5L6t83NIIa",
        "outputId": "78dceb6e-5f78-4872-9fd8-b907ec43ae72"
      },
      "outputs": [
        {
          "output_type": "execute_result",
          "data": {
            "text/plain": [
              "array([ 3,  4, 17, 65])"
            ]
          },
          "metadata": {},
          "execution_count": 2
        }
      ],
      "source": [
        "import numpy as np\n",
        "\n",
        "vector = np.array([3,4,17,65])\n",
        "vector"
      ]
    },
    {
      "cell_type": "code",
      "source": [
        "matrix = np.array([[1,2,3],[4,5,6],[7,8,9]])\n",
        "matrix\n",
        "print(matrix)"
      ],
      "metadata": {
        "colab": {
          "base_uri": "https://localhost:8080/"
        },
        "id": "95-wXHsASV0_",
        "outputId": "e6588aad-d126-4c1e-cd35-a464865c120a"
      },
      "execution_count": 4,
      "outputs": [
        {
          "output_type": "stream",
          "name": "stdout",
          "text": [
            "[[1 2 3]\n",
            " [4 5 6]\n",
            " [7 8 9]]\n"
          ]
        }
      ]
    },
    {
      "cell_type": "markdown",
      "source": [
        "Exercice:\n",
        "\n",
        "1 - Créer un vecteur depuis la liste [10,20,30] et l'assigner à la variable vector\n",
        "\n",
        "2 - Créer une matrice depuis la liste [[5,10,15],[20,25,30],[35,40,45]] et l'assigner à la variable matrix"
      ],
      "metadata": {
        "id": "CWm7cU87Swx0"
      }
    },
    {
      "cell_type": "code",
      "source": [
        "vector = np.array([10,20,30])\n",
        "matrix = np.array([[5,10,15],[20,25,30],[35,40,45]])\n",
        "\n",
        "vector, matrix"
      ],
      "metadata": {
        "colab": {
          "base_uri": "https://localhost:8080/"
        },
        "id": "-QrUI6DhTAYy",
        "outputId": "0eb0e539-50fc-41db-e45b-fa51760f60c0"
      },
      "execution_count": 6,
      "outputs": [
        {
          "output_type": "execute_result",
          "data": {
            "text/plain": [
              "(array([10, 20, 30]),\n",
              " array([[ 5, 10, 15],\n",
              "        [20, 25, 30],\n",
              "        [35, 40, 45]]))"
            ]
          },
          "metadata": {},
          "execution_count": 6
        }
      ]
    },
    {
      "cell_type": "markdown",
      "source": [
        "# Taille d'un tableau"
      ],
      "metadata": {
        "id": "waTbyAJPTSHo"
      }
    },
    {
      "cell_type": "code",
      "source": [
        "vector = np.array(['1986', 'Western Pacifi', 'Viet Nam', 'Wine', 0])"
      ],
      "metadata": {
        "colab": {
          "base_uri": "https://localhost:8080/"
        },
        "id": "lUafeoYhTUam",
        "outputId": "0d08ec47-24c3-4a87-aa2c-7bfc31d379b6"
      },
      "execution_count": 7,
      "outputs": [
        {
          "output_type": "execute_result",
          "data": {
            "text/plain": [
              "array(['1986', 'Western Pacifi', 'Viet Nam', 'Wine', '0'], dtype='<U21')"
            ]
          },
          "metadata": {},
          "execution_count": 7
        }
      ]
    },
    {
      "cell_type": "code",
      "source": [
        "matrix = np.array([[5,10,15],[20,25,30]])"
      ],
      "metadata": {
        "id": "XwaoPz5DTeyl"
      },
      "execution_count": 10,
      "outputs": []
    },
    {
      "cell_type": "code",
      "source": [
        "vector.shape, matrix.shape"
      ],
      "metadata": {
        "colab": {
          "base_uri": "https://localhost:8080/"
        },
        "id": "MCIMTuJxUzYZ",
        "outputId": "15b390ad-b670-4aab-cb9a-11d59253d453"
      },
      "execution_count": 11,
      "outputs": [
        {
          "output_type": "execute_result",
          "data": {
            "text/plain": [
              "((3,), (2, 3))"
            ]
          },
          "metadata": {},
          "execution_count": 11
        }
      ]
    },
    {
      "cell_type": "markdown",
      "source": [
        "# Lire un dataset\n",
        "\n",
        "Fonction: numpy.genfromtxt()"
      ],
      "metadata": {
        "id": "fkb6AlluVcnS"
      }
    },
    {
      "cell_type": "code",
      "source": [
        "import numpy as np\n",
        "from google.colab import drive\n",
        "drive.mount('/gdrive')\n",
        "\n",
        "url = '/gdrive/MyDrive/python-data-course'\n",
        "filename = 'world_alcohol.csv'\n",
        "\n",
        "world_alcohol = np.genfromtxt(url + '/' + filename, delimiter=',')\n",
        "print(type(world_alcohol))\n",
        "print(world_alcohol)"
      ],
      "metadata": {
        "colab": {
          "base_uri": "https://localhost:8080/"
        },
        "id": "vteOBGdUWW-t",
        "outputId": "ab3c1d96-e335-4959-cf35-56a495a0698e"
      },
      "execution_count": 33,
      "outputs": [
        {
          "output_type": "stream",
          "name": "stdout",
          "text": [
            "<class 'numpy.ndarray'>\n",
            "[[      nan       nan       nan       nan       nan]\n",
            " [1.986e+03       nan       nan       nan 0.000e+00]\n",
            " [1.986e+03       nan       nan       nan 5.000e-01]\n",
            " ...\n",
            " [1.986e+03       nan       nan       nan 2.540e+00]\n",
            " [1.987e+03       nan       nan       nan 0.000e+00]\n",
            " [1.986e+03       nan       nan       nan 5.150e+00]]\n"
          ]
        }
      ]
    },
    {
      "cell_type": "markdown",
      "source": [
        "Sans précision du type, Numpy a défini que le type correct des données était float64 et a converti tout ce qui n'est pas un nombre en NaN"
      ],
      "metadata": {
        "id": "6MI0RkSPYT-z"
      }
    },
    {
      "cell_type": "markdown",
      "source": [
        "# Les types de données Numpy\n",
        "\n",
        "\n",
        "- bool => True or False\n",
        "- int => avec des sous-types int16, int32 ou int64\n",
        "- float => comme ci-dessus\n",
        "- string\n",
        "\n",
        "- nan => Not a Number\n",
        "- na => Not Available\n",
        "\n",
        "\n",
        "La particularité d'un tableau Numpy est que toutes les données d'un tableau sont du même type.\n",
        "\n",
        "Ce type peut être obtenu avec la méthode Numpy **dtype**"
      ],
      "metadata": {
        "id": "JxRyeWrOXPZz"
      }
    },
    {
      "cell_type": "code",
      "source": [
        "numbers = np.array([1,2,3])\n",
        "numbers.dtype"
      ],
      "metadata": {
        "colab": {
          "base_uri": "https://localhost:8080/"
        },
        "id": "1bE3DdbxXs_G",
        "outputId": "052d5840-2ee4-4f96-b65e-e0a0b4f06368"
      },
      "execution_count": 28,
      "outputs": [
        {
          "output_type": "execute_result",
          "data": {
            "text/plain": [
              "dtype('int64')"
            ]
          },
          "metadata": {},
          "execution_count": 28
        }
      ]
    },
    {
      "cell_type": "code",
      "source": [
        "world_alcohol_dtype = world_alcohol.dtype\n",
        "print(world_alcohol_dtype)"
      ],
      "metadata": {
        "colab": {
          "base_uri": "https://localhost:8080/"
        },
        "id": "qArSpDZLX6am",
        "outputId": "463c319f-a64d-4720-e9f5-d7e2740a421c"
      },
      "execution_count": 35,
      "outputs": [
        {
          "output_type": "stream",
          "name": "stdout",
          "text": [
            "float64\n"
          ]
        }
      ]
    },
    {
      "cell_type": "markdown",
      "source": [
        "# Afficher correctement les données"
      ],
      "metadata": {
        "id": "zqsD4ZO-YcK9"
      }
    },
    {
      "cell_type": "code",
      "source": [
        "world_alcohol = np.genfromtxt(url + '/' + filename, delimiter=',',\n",
        "                              dtype = \"U75\",  # Unicode 75 Bits\n",
        "                              skip_header = True\n",
        "                              )\n",
        "world_alcohol"
      ],
      "metadata": {
        "colab": {
          "base_uri": "https://localhost:8080/"
        },
        "id": "2w4y7YtqYeNh",
        "outputId": "7a45a4fb-cffd-4c7e-a316-8d994ab33c68"
      },
      "execution_count": 41,
      "outputs": [
        {
          "output_type": "execute_result",
          "data": {
            "text/plain": [
              "array([['1986', 'Western Pacific', 'Viet Nam', 'Wine', '0'],\n",
              "       ['1986', 'Americas', 'Uruguay', 'Other', '0.5'],\n",
              "       ['1985', 'Africa', \"Cte d'Ivoire\", 'Wine', '1.62'],\n",
              "       ...,\n",
              "       ['1986', 'Europe', 'Switzerland', 'Spirits', '2.54'],\n",
              "       ['1987', 'Western Pacific', 'Papua New Guinea', 'Other', '0'],\n",
              "       ['1986', 'Africa', 'Swaziland', 'Other', '5.15']], dtype='<U75')"
            ]
          },
          "metadata": {},
          "execution_count": 41
        }
      ]
    },
    {
      "cell_type": "markdown",
      "source": [
        "# Extraire une valeur depuis un tableau Numpy"
      ],
      "metadata": {
        "id": "-yZJ93TcdW_e"
      }
    },
    {
      "cell_type": "code",
      "source": [
        "vector = np.array([1,2,5])\n",
        "\n",
        "print(vector[0])"
      ],
      "metadata": {
        "colab": {
          "base_uri": "https://localhost:8080/"
        },
        "id": "g7nV69FcdZnb",
        "outputId": "87a7866c-1b04-4cb6-d31b-64ce8a19eaf4"
      },
      "execution_count": 42,
      "outputs": [
        {
          "output_type": "stream",
          "name": "stdout",
          "text": [
            "1\n"
          ]
        }
      ]
    },
    {
      "cell_type": "code",
      "source": [
        "matrix = np.array([[0,1,2],[3,4,5]])\n",
        "print(matrix[0][1]) # Approche naïve\n",
        "\n",
        "first_row = matrix[0]\n",
        "print(first_row)\n",
        "\n",
        "print(matrix[0,1]) # Première valeur : ligne, seconde valeur: colonne"
      ],
      "metadata": {
        "colab": {
          "base_uri": "https://localhost:8080/"
        },
        "id": "pe5a8E-Sdgg1",
        "outputId": "e5486079-e944-4236-cffa-27435af37cd5"
      },
      "execution_count": 47,
      "outputs": [
        {
          "output_type": "stream",
          "name": "stdout",
          "text": [
            "1\n",
            "[0 1 2]\n",
            "1\n"
          ]
        }
      ]
    },
    {
      "cell_type": "markdown",
      "source": [
        "Exercice: Extraire une valeur depuis un tableau Numpy\n",
        "\n",
        "- Assigner le nombre de litres de vin bu par un Ivoirien en 1985 à la variable ivoire_1985 (troisième ligne)\n",
        "- Assiner le nom du pays de la 2ème ligne à la variable second_country"
      ],
      "metadata": {
        "id": "2YbqqlyNeJuU"
      }
    },
    {
      "cell_type": "code",
      "source": [
        "world_alcohol"
      ],
      "metadata": {
        "colab": {
          "base_uri": "https://localhost:8080/"
        },
        "id": "dUtyZof4edDn",
        "outputId": "4d18c345-a65a-4de3-92cf-f01272cb10cf"
      },
      "execution_count": 48,
      "outputs": [
        {
          "output_type": "execute_result",
          "data": {
            "text/plain": [
              "array([['1986', 'Western Pacific', 'Viet Nam', 'Wine', '0'],\n",
              "       ['1986', 'Americas', 'Uruguay', 'Other', '0.5'],\n",
              "       ['1985', 'Africa', \"Cte d'Ivoire\", 'Wine', '1.62'],\n",
              "       ...,\n",
              "       ['1986', 'Europe', 'Switzerland', 'Spirits', '2.54'],\n",
              "       ['1987', 'Western Pacific', 'Papua New Guinea', 'Other', '0'],\n",
              "       ['1986', 'Africa', 'Swaziland', 'Other', '5.15']], dtype='<U75')"
            ]
          },
          "metadata": {},
          "execution_count": 48
        }
      ]
    },
    {
      "cell_type": "code",
      "source": [
        "ivoire_1985 = world_alcohol[2,4]\n",
        "second_country = world_alcohol[1,2]\n",
        "\n",
        "ivoire_1985, second_country"
      ],
      "metadata": {
        "colab": {
          "base_uri": "https://localhost:8080/"
        },
        "id": "q5DuFFageZBH",
        "outputId": "685b9b77-6d85-4465-e38b-53a729c74f5f"
      },
      "execution_count": 50,
      "outputs": [
        {
          "output_type": "execute_result",
          "data": {
            "text/plain": [
              "('1.62', 'Uruguay')"
            ]
          },
          "metadata": {},
          "execution_count": 50
        }
      ]
    },
    {
      "cell_type": "markdown",
      "source": [
        "# Extraire un vecteur de valeurs depuis un tableau  NumPy"
      ],
      "metadata": {
        "id": "84pWMGWCevno"
      }
    },
    {
      "cell_type": "code",
      "source": [
        "vector = np.array([5,10,15,20])"
      ],
      "metadata": {
        "id": "lft23m31eznK"
      },
      "execution_count": 51,
      "outputs": []
    },
    {
      "cell_type": "code",
      "source": [
        "vector[0:3]"
      ],
      "metadata": {
        "colab": {
          "base_uri": "https://localhost:8080/"
        },
        "id": "jyxPhcQEe2YL",
        "outputId": "f7798e53-2c04-4535-956a-d5a7b2a7ca93"
      },
      "execution_count": 55,
      "outputs": [
        {
          "output_type": "execute_result",
          "data": {
            "text/plain": [
              "array([ 5, 10, 15])"
            ]
          },
          "metadata": {},
          "execution_count": 55
        }
      ]
    },
    {
      "cell_type": "code",
      "source": [
        "matrix = np.array([[0,1,2],[3,4,5]])\n",
        "\n",
        "print(matrix)\n",
        "\n",
        "print(matrix[1,:2]) # Les valeurs des index 0 jusqu'à 3 exclus de la ligne 2\n",
        "print(matrix[:,1]) # Toutes les valeurs de la colonne 1\n",
        "print(matrix[:, :2])"
      ],
      "metadata": {
        "colab": {
          "base_uri": "https://localhost:8080/"
        },
        "id": "wug2gukJfDID",
        "outputId": "afbbd59d-9186-4824-a507-b4bb30defbf0"
      },
      "execution_count": 62,
      "outputs": [
        {
          "output_type": "stream",
          "name": "stdout",
          "text": [
            "[[0 1 2]\n",
            " [3 4 5]]\n",
            "[3 4]\n",
            "[1 4]\n",
            "[[0 1]\n",
            " [3 4]]\n"
          ]
        }
      ]
    },
    {
      "cell_type": "markdown",
      "source": [
        "Exercice\n",
        "- Assigner toute la 3e colonne de world_alcohol à la variable countries\n",
        "- Assigner l'ensemble de la 5e colonne à la variable alcohol_consumption"
      ],
      "metadata": {
        "id": "8pwhOmvQfxsj"
      }
    },
    {
      "cell_type": "code",
      "source": [
        "countries = world_alcohol[:,2]\n",
        "alcohol_consumption = world_alcohol[:, 4]\n",
        "\n",
        "countries, alcohol_consumption"
      ],
      "metadata": {
        "colab": {
          "base_uri": "https://localhost:8080/"
        },
        "id": "4fpOaiucgBq0",
        "outputId": "9064fd56-f30d-4598-aeaa-4e12d588eba8"
      },
      "execution_count": 64,
      "outputs": [
        {
          "output_type": "execute_result",
          "data": {
            "text/plain": [
              "(array(['Viet Nam', 'Uruguay', \"Cte d'Ivoire\", ..., 'Switzerland',\n",
              "        'Papua New Guinea', 'Swaziland'], dtype='<U75'),\n",
              " array(['0', '0.5', '1.62', ..., '2.54', '0', '5.15'], dtype='<U75'))"
            ]
          },
          "metadata": {},
          "execution_count": 64
        }
      ]
    },
    {
      "cell_type": "markdown",
      "source": [
        "# Extraire un tableau de valeurs depuis un tableau Numpy"
      ],
      "metadata": {
        "id": "ah4d-KJugZi6"
      }
    },
    {
      "cell_type": "code",
      "source": [
        "matrix = np.array([[0,1,2],[3,4,5],[6,7,8]])"
      ],
      "metadata": {
        "id": "r2XWjCQkgfIv"
      },
      "execution_count": 65,
      "outputs": []
    },
    {
      "cell_type": "code",
      "source": [
        "matrix[:,:2]"
      ],
      "metadata": {
        "colab": {
          "base_uri": "https://localhost:8080/"
        },
        "id": "BFVjpfqtgh58",
        "outputId": "744951db-e13a-4975-f011-07f6ca14ad01"
      },
      "execution_count": 68,
      "outputs": [
        {
          "output_type": "execute_result",
          "data": {
            "text/plain": [
              "array([[0, 1],\n",
              "       [3, 4],\n",
              "       [6, 7]])"
            ]
          },
          "metadata": {},
          "execution_count": 68
        }
      ]
    },
    {
      "cell_type": "code",
      "source": [
        "matrix[1:3,0:2]"
      ],
      "metadata": {
        "colab": {
          "base_uri": "https://localhost:8080/"
        },
        "id": "5t49eib3gre_",
        "outputId": "8ad6f367-508e-4d73-93d5-8668d4da0172"
      },
      "execution_count": 69,
      "outputs": [
        {
          "output_type": "execute_result",
          "data": {
            "text/plain": [
              "array([[3, 4],\n",
              "       [6, 7]])"
            ]
          },
          "metadata": {},
          "execution_count": 69
        }
      ]
    },
    {
      "cell_type": "markdown",
      "source": [
        "Exercice:\n",
        "- Assigner toutes les lignes des deux premières colonnes à la variable first_two_columns\n",
        "- Assigner les 10 premières lignes de la colonne à la variable first_ten_years\n",
        "- Assigner les 10 premères lignes de toutes les colonnes à first_ten_rows\n",
        "- Assigner 20 premières lignes des colonnes d'indice 1 et 2 à first_twenty-regions"
      ],
      "metadata": {
        "id": "oaCx3Cgug0pw"
      }
    },
    {
      "cell_type": "code",
      "source": [
        "first_two_columns = world_alcohol[:,:2]\n",
        "first_ten_years = world_alcohol[:10,0]\n",
        "first_ten_rows = world_alcohol[:10,:]\n",
        "first_twenty_regions = world_alcohol[:20,1:3]\n",
        "\n",
        "first_two_columns, first_ten_years, first_ten_rows, first_twenty_regions"
      ],
      "metadata": {
        "colab": {
          "base_uri": "https://localhost:8080/"
        },
        "id": "7YpAGPPPhQeM",
        "outputId": "ed2d6504-bd64-4754-974c-f253a0499254"
      },
      "execution_count": 70,
      "outputs": [
        {
          "output_type": "execute_result",
          "data": {
            "text/plain": [
              "(array([['1986', 'Western Pacific'],\n",
              "        ['1986', 'Americas'],\n",
              "        ['1985', 'Africa'],\n",
              "        ...,\n",
              "        ['1986', 'Europe'],\n",
              "        ['1987', 'Western Pacific'],\n",
              "        ['1986', 'Africa']], dtype='<U75'),\n",
              " array(['1986', '1986', '1985', '1986', '1987', '1987', '1987', '1985',\n",
              "        '1986', '1984'], dtype='<U75'),\n",
              " array([['1986', 'Western Pacific', 'Viet Nam', 'Wine', '0'],\n",
              "        ['1986', 'Americas', 'Uruguay', 'Other', '0.5'],\n",
              "        ['1985', 'Africa', \"Cte d'Ivoire\", 'Wine', '1.62'],\n",
              "        ['1986', 'Americas', 'Colombia', 'Beer', '4.27'],\n",
              "        ['1987', 'Americas', 'Saint Kitts and Nevis', 'Beer', '1.98'],\n",
              "        ['1987', 'Americas', 'Guatemala', 'Other', '0'],\n",
              "        ['1987', 'Africa', 'Mauritius', 'Wine', '0.13'],\n",
              "        ['1985', 'Africa', 'Angola', 'Spirits', '0.39'],\n",
              "        ['1986', 'Americas', 'Antigua and Barbuda', 'Spirits', '1.55'],\n",
              "        ['1984', 'Africa', 'Nigeria', 'Other', '6.1']], dtype='<U75'),\n",
              " array([['Western Pacific', 'Viet Nam'],\n",
              "        ['Americas', 'Uruguay'],\n",
              "        ['Africa', \"Cte d'Ivoire\"],\n",
              "        ['Americas', 'Colombia'],\n",
              "        ['Americas', 'Saint Kitts and Nevis'],\n",
              "        ['Americas', 'Guatemala'],\n",
              "        ['Africa', 'Mauritius'],\n",
              "        ['Africa', 'Angola'],\n",
              "        ['Americas', 'Antigua and Barbuda'],\n",
              "        ['Africa', 'Nigeria'],\n",
              "        ['Africa', 'Botswana'],\n",
              "        ['Americas', 'Guatemala'],\n",
              "        ['Western Pacific', \"Lao People's Democratic Republic\"],\n",
              "        ['Eastern Mediterranean', 'Afghanistan'],\n",
              "        ['Western Pacific', 'Viet Nam'],\n",
              "        ['Africa', 'Guinea-Bissau'],\n",
              "        ['Americas', 'Costa Rica'],\n",
              "        ['Africa', 'Seychelles'],\n",
              "        ['Europe', 'Norway'],\n",
              "        ['Africa', 'Kenya']], dtype='<U75'))"
            ]
          },
          "metadata": {},
          "execution_count": 70
        }
      ]
    }
  ]
}